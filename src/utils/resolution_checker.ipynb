{
 "cells": [
  {
   "cell_type": "code",
   "execution_count": 2,
   "metadata": {},
   "outputs": [],
   "source": [
    "import rasterio\n",
    "import matplotlib.pyplot as plt\n",
    "\n",
    "# Path to your GeoTIFF file\n",
    "file_path = r\"/home/stormej/dev/varsha/data/machine_learning/random_forest/one_by_one_prediction_downscaled/downscaled_rainfall_2000_04.tif\"\n",
    "\n",
    "\n",
    "# Open the GeoTIFF file\n",
    "with rasterio.open(file_path) as src:\n",
    "    # Read the first (or only) band\n",
    "    rainfall_data = src.read(1)"
   ]
  },
  {
   "cell_type": "code",
   "execution_count": 3,
   "metadata": {},
   "outputs": [
    {
     "name": "stdout",
     "output_type": "stream",
     "text": [
      "IMD file properties:\n",
      "Bounds: BoundingBox(left=76.7969736393779, bottom=28.395746131018075, right=77.60545739508547, top=28.907785842966202)\n",
      "CRS: EPSG:4326\n",
      "Transform: | 0.01, 0.00, 76.80|\n",
      "| 0.00,-0.01, 28.91|\n",
      "| 0.00, 0.00, 1.00|\n",
      "Shape: (57, 90)\n"
     ]
    }
   ],
   "source": [
    "with rasterio.open(file_path) as src:\n",
    "    print(f\"IMD file properties:\")\n",
    "    print(f\"Bounds: {src.bounds}\")\n",
    "    print(f\"CRS: {src.crs}\")\n",
    "    print(f\"Transform: {src.transform}\")\n",
    "    print(f\"Shape: {src.shape}\")"
   ]
  }
 ],
 "metadata": {
  "kernelspec": {
   "display_name": "env",
   "language": "python",
   "name": "python3"
  },
  "language_info": {
   "codemirror_mode": {
    "name": "ipython",
    "version": 3
   },
   "file_extension": ".py",
   "mimetype": "text/x-python",
   "name": "python",
   "nbconvert_exporter": "python",
   "pygments_lexer": "ipython3",
   "version": "3.12.7"
  }
 },
 "nbformat": 4,
 "nbformat_minor": 2
}
